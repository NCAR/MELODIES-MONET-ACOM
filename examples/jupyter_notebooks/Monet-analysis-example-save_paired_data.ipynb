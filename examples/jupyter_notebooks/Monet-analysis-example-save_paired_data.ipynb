{
 "cells": [
  {
   "cell_type": "markdown",
   "id": "4834b5df",
   "metadata": {},
   "source": [
    "# Saving MELODIES-MONET paired data to files.\n",
    "\n",
    "First lets just import the driver."
   ]
  },
  {
   "cell_type": "code",
   "execution_count": 1,
   "id": "90856e9f",
   "metadata": {},
   "outputs": [
    {
     "name": "stdout",
     "output_type": "stream",
     "text": [
      "Please install h5py to open files from the Amazon S3 servers.\n",
      "Please install h5netcdf to open files from the Amazon S3 servers.\n"
     ]
    }
   ],
   "source": [
    "from melodies_monet import driver"
   ]
  },
  {
   "cell_type": "markdown",
   "id": "25a873f0",
   "metadata": {},
   "source": [
    "### Driver class\n",
    "\n",
    "Now lets create an instance of the python driver analysis class. It consists of 4 main parts; model instances, observation instances, a paired instance of both."
   ]
  },
  {
   "cell_type": "code",
   "execution_count": 2,
   "id": "323c4b19",
   "metadata": {},
   "outputs": [],
   "source": [
    "an = driver.analysis()"
   ]
  },
  {
   "cell_type": "markdown",
   "id": "645d5473",
   "metadata": {},
   "source": [
    "### Control File\n",
    "\n",
    "set the yaml control file and begin by reading the file"
   ]
  },
  {
   "cell_type": "code",
   "execution_count": 3,
   "id": "1de6f34b",
   "metadata": {},
   "outputs": [
    {
     "data": {
      "text/plain": [
       "{'analysis': {'start_time': '2019-09-05-00:00:00',\n",
       "  'end_time': '2019-09-06-00:00:00',\n",
       "  'output_dir': '/wrk/charkins/melodies_monet/aircraft/analysis_saveout2',\n",
       "  'output_dir_save': '/wrk/charkins/melodies_monet/aircraft/analysis_saveout2/savedir_test',\n",
       "  'output_dir_read': '/wrk/charkins/melodies_monet/aircraft/analysis_saveout/readdir_test',\n",
       "  'debug': True,\n",
       "  'save': {'paired': {'method': 'netcdf', 'prefix': '0905', 'data': 'all'}},\n",
       "  'read': {'paired': {'method': 'netcdf',\n",
       "    'filenames': {'airnow_wrfchem_v4.2': ['0904_airnow_wrfchem_v4.2.nc4',\n",
       "      '0905_airnow_wrfchem_v4.2.nc4']}}}},\n",
       " 'model': {'wrfchem_v4.2': {'files': '/wrk/d2/charkins/melodies-monet_data/wrfchem/run_CONUS_fv19_BEIS_1.0xISO_RACM_v4.2.2_racm_berk_vcp_noI_phot_soa/0905/wrfout_d01_2019-09-05_*',\n",
       "   'mod_type': 'wrfchem',\n",
       "   'mod_kwargs': {'mech': 'racm_esrl_vcp'},\n",
       "   'radius_of_influence': 12000,\n",
       "   'mapping': {'airnow': {'co': 'CO',\n",
       "     'no2': 'NO2',\n",
       "     'no': 'NO',\n",
       "     'o3': 'OZONE'}},\n",
       "   'projection': 'None',\n",
       "   'plot_kwargs': {'color': 'dodgerblue', 'marker': '^', 'linestyle': ':'}}},\n",
       " 'obs': {'airnow': {'use_airnow': True,\n",
       "   'filename': '/wrk/d2/charkins/melodies-monet_data/airnow/AIRNOW_20190901_20190930.nc',\n",
       "   'obs_type': 'pt_sfc',\n",
       "   'variables': {'PM2.5': {'unit_scale': 1,\n",
       "     'unit_scale_method': '*',\n",
       "     'nan_value': -1.0,\n",
       "     'ylabel_plot': 'PM2.5 (ug/m3)',\n",
       "     'ty_scale': 2.0,\n",
       "     'vmin_plot': 0.0,\n",
       "     'vmax_plot': 22.0,\n",
       "     'vdiff_plot': 15.0,\n",
       "     'nlevels_plot': 23},\n",
       "    'OZONE': {'unit_scale': 1,\n",
       "     'unit_scale_method': '*',\n",
       "     'nan_value': -1.0,\n",
       "     'ylabel_plot': 'Ozone (ppbv)',\n",
       "     'vmin_plot': 15.0,\n",
       "     'vmax_plot': 55.0,\n",
       "     'vdiff_plot': 20.0,\n",
       "     'nlevels_plot': 21},\n",
       "    'WS': {'unit_scale': 0.514, 'unit_scale_method': '*', 'obs_min': 0.2},\n",
       "    'PRSFC': {'unit_scale': 0.01, 'unit_scale_method': '*'},\n",
       "    'PRECIP': {'unit_scale': 0.1, 'unit_scale_method': '*'},\n",
       "    'TEMP': {'unit_scale': 273.16, 'unit_scale_method': '-'},\n",
       "    'CO': {'unit_scale': 1000.0,\n",
       "     'unit_scale_method': '*',\n",
       "     'nan_value': -1.0,\n",
       "     'ylabel_plot': 'CO (ppbv)',\n",
       "     'vmin_plot': 50.0,\n",
       "     'vmax_plot': 750.0,\n",
       "     'vdiff_plot': 400.0,\n",
       "     'nlevels_plot': 15},\n",
       "    'SO2': {'nan_value': -1.0, 'ylabel_plot': 'SO2 (ppbv)'},\n",
       "    'NO': {'nan_value': -1.0,\n",
       "     'ylabel_plot': 'NO (ppbv)',\n",
       "     'vmin_plot': 0.0,\n",
       "     'vmax_plot': 20.0,\n",
       "     'vdiff_plot': 15.0,\n",
       "     'nlevels_plot': 21},\n",
       "    'NO2': {'nan_value': -1.0,\n",
       "     'ylabel_plot': 'NO2 (ppbv)',\n",
       "     'vmin_plot': 0.0,\n",
       "     'vmax_plot': 20.0,\n",
       "     'vdiff_plot': 15.0,\n",
       "     'nlevels_plot': 21}}}}}"
      ]
     },
     "execution_count": 3,
     "metadata": {},
     "output_type": "execute_result"
    }
   ],
   "source": [
    "# an.control = '../yaml/control_saveandread.yaml'\n",
    "an.control = 'control_saveandread.yaml'\n",
    "an.read_control() \n",
    "an.control_dict"
   ]
  },
  {
   "cell_type": "markdown",
   "id": "9d4d5be4",
   "metadata": {},
   "source": [
    "### Loading the model data \n",
    "\n",
    "driver will automatically loop through the \"models\" found in the model section of the yaml file and create an instance of the driver.model class for each that includes the label, mapping information, and xarray object as well as the filenames.  Note it can open multiple files easily by including hot keys "
   ]
  },
  {
   "cell_type": "code",
   "execution_count": 4,
   "id": "a5474cf2",
   "metadata": {},
   "outputs": [
    {
     "name": "stdout",
     "output_type": "stream",
     "text": [
      "/wrk/d2/charkins/melodies-monet_data/wrfchem/run_CONUS_fv19_BEIS_1.0xISO_RACM_v4.2.2_racm_berk_vcp_noI_phot_soa/0905/wrfout_d01_2019-09-05_*\n",
      "**** Reading WRF-Chem model output...\n"
     ]
    }
   ],
   "source": [
    "an.open_models()"
   ]
  },
  {
   "cell_type": "markdown",
   "id": "5165f204",
   "metadata": {},
   "source": [
    "### Open Obs\n",
    "\n",
    "Now for monet-analysis we will open preprocessed data in either netcdf icartt or some other format.  We will not be retrieving data like monetio does for some observations (ie aeronet, airnow, etc....).  Instead we will provide utitilies to do this so that users can add more data easily.\n",
    "\n",
    "Like models we list all obs objects in the yaml file and it will loop through and create driver.observation instances that include the model type, file, objects (i.e. data object) and label  "
   ]
  },
  {
   "cell_type": "code",
   "execution_count": 5,
   "id": "bd807787",
   "metadata": {},
   "outputs": [],
   "source": [
    "an.open_obs()"
   ]
  },
  {
   "cell_type": "code",
   "execution_count": 6,
   "id": "ee5603ed",
   "metadata": {
    "scrolled": true
   },
   "outputs": [
    {
     "name": "stdout",
     "output_type": "stream",
     "text": [
      "After pairing:                         time  BARPR   BC  CO  NO  NO2  NO2Y  NOX  NOY  OZONE  \\\n",
      "0       2019-09-01 00:00:00   -1.0 -1.0 NaN NaN  NaN  -1.0 -1.0 -1.0   25.0   \n",
      "1       2019-09-01 00:15:00   -1.0 -1.0 NaN NaN  NaN  -1.0 -1.0 -1.0    NaN   \n",
      "2       2019-09-01 00:30:00   -1.0 -1.0 NaN NaN  NaN  -1.0 -1.0 -1.0    NaN   \n",
      "3       2019-09-01 01:00:00   -1.0 -1.0 NaN NaN  NaN  -1.0 -1.0 -1.0   24.0   \n",
      "4       2019-09-01 01:15:00   -1.0 -1.0 NaN NaN  NaN  -1.0 -1.0 -1.0    NaN   \n",
      "...                     ...    ...  ...  ..  ..  ...   ...  ...  ...    ...   \n",
      "7916521 2019-09-29 23:15:00   -1.0 -1.0 NaN NaN  NaN  -1.0 -1.0 -1.0    NaN   \n",
      "7916522 2019-09-29 23:30:00   -1.0 -1.0 NaN NaN  NaN  -1.0 -1.0 -1.0    NaN   \n",
      "7916523 2019-09-30 00:00:00   -1.0 -1.0 NaN NaN  NaN  -1.0 -1.0 -1.0    8.0   \n",
      "7916524 2019-09-30 00:15:00   -1.0 -1.0 NaN NaN  NaN  -1.0 -1.0 -1.0    NaN   \n",
      "7916525 2019-09-30 00:30:00   -1.0 -1.0 NaN NaN  NaN  -1.0 -1.0 -1.0    NaN   \n",
      "\n",
      "         ...  msa_code  msa_name  state_name  epa_region          time_local  \\\n",
      "0        ...      -1.0                    CC          CA 2019-08-31 20:00:00   \n",
      "1        ...      -1.0                    CC          CA 2019-08-31 20:15:00   \n",
      "2        ...      -1.0                    CC          CA 2019-08-31 20:30:00   \n",
      "3        ...      -1.0                    CC          CA 2019-08-31 21:00:00   \n",
      "4        ...      -1.0                    CC          CA 2019-08-31 21:15:00   \n",
      "...      ...       ...       ...         ...         ...                 ...   \n",
      "7916521  ...      -1.0                              DSUZ 2019-09-30 04:15:00   \n",
      "7916522  ...      -1.0                              DSUZ 2019-09-30 04:30:00   \n",
      "7916523  ...      -1.0                              DSUZ 2019-09-30 05:00:00   \n",
      "7916524  ...      -1.0                              DSUZ 2019-09-30 05:15:00   \n",
      "7916525  ...      -1.0                              DSUZ 2019-09-30 05:30:00   \n",
      "\n",
      "            siteid  co  no2  no  o3  \n",
      "0        000010102 NaN  NaN NaN NaN  \n",
      "1        000010102 NaN  NaN NaN NaN  \n",
      "2        000010102 NaN  NaN NaN NaN  \n",
      "3        000010102 NaN  NaN NaN NaN  \n",
      "4        000010102 NaN  NaN NaN NaN  \n",
      "...            ...  ..  ...  ..  ..  \n",
      "7916521  UZB010001 NaN  NaN NaN NaN  \n",
      "7916522  UZB010001 NaN  NaN NaN NaN  \n",
      "7916523  UZB010001 NaN  NaN NaN NaN  \n",
      "7916524  UZB010001 NaN  NaN NaN NaN  \n",
      "7916525  UZB010001 NaN  NaN NaN NaN  \n",
      "\n",
      "[7916526 rows x 38 columns]\n"
     ]
    }
   ],
   "source": [
    "#This just pairs the data\n",
    "an.pair_data()"
   ]
  },
  {
   "cell_type": "markdown",
   "id": "9a00541c-13d9-4bb6-8ffd-3e45c61bfa26",
   "metadata": {},
   "source": [
    "### Save data from control .yaml\n",
    "\n",
    "The driver will save the data based on the information included in the control .yaml file by calling an.save_analysis(). In the control .yaml file, the optional argument output_dir_save controls the location files will be saved to. When output_dir_save is not specified, output_dir is used for the save location. \n",
    "\n",
    "In the control .yaml analysis section, setting method to 'netcdf' for a given attribute of the analysis class (e.g., paired,  models, obs) will write netcdf4 files to the directory specififed in the control .yaml file. When saving out paired data, the code will write a separate file for each model/obs pairing. The filenames take the format [prefix]_[label].nc4, where for example the label of a paired class may be 'airnow_wrfchem_v4.2' or 'airnow_cmaq_oper'.\n",
    "\n",
    "In the control .yaml analysis section, setting method to 'pkl' for a given attribute of the analysis class (e.g., paired, models, obs) will write .pkl files to the  to the directory specififed in the control .yaml file. Unlike with the netCDF files, all pairs will be saved in the same pickle file. The output filename is set with the 'output_name' in the .yaml file.  \n",
    "\n",
    "Be careful when saving .pkl files for later anaylsis or when files will be used by multiple users. A change to the structure of xarray objects between saving the file and reading the file (for example if the version of xarray is different) can break the functionality of reading saved pickle files with MELODIES-MONET.\n"
   ]
  },
  {
   "cell_type": "code",
   "execution_count": 7,
   "id": "3af8b1c3",
   "metadata": {
    "scrolled": true
   },
   "outputs": [
    {
     "name": "stdout",
     "output_type": "stream",
     "text": [
      "Writing: /wrk/charkins/melodies_monet/aircraft/analysis_saveout2/savedir_test/0905_airnow_wrfchem_v4.2.nc4\n"
     ]
    }
   ],
   "source": [
    "an.save_analysis()"
   ]
  },
  {
   "cell_type": "markdown",
   "id": "ad26fae0-4457-456b-895b-e55e2e76a37b",
   "metadata": {},
   "source": [
    "### Save data without using .yaml\n",
    "\n",
    "Alternatively, the same can be acheived by calling the saveout function directly. The object to save must be an attribute of the instance of the analysis class (e.g., an.paired, an.models, an.obs)"
   ]
  },
  {
   "cell_type": "code",
   "execution_count": 8,
   "id": "6fe7f117",
   "metadata": {
    "scrolled": true
   },
   "outputs": [
    {
     "name": "stdout",
     "output_type": "stream",
     "text": [
      "Writing: /wrk/charkins/melodies_monet/aircraft/analysis_saveout2/0905_airnow_wrfchem_v4.2.nc4\n"
     ]
    }
   ],
   "source": [
    "# For netCDF files \n",
    "from melodies_monet.util.write_util import write_analysis_ncf\n",
    "write_analysis_ncf(obj=an.paired, output_dir='/wrk/charkins/melodies_monet/aircraft/analysis_saveout2',\n",
    "                                               fn_prefix='0905')\n"
   ]
  },
  {
   "cell_type": "code",
   "execution_count": 9,
   "id": "a3d073b6",
   "metadata": {},
   "outputs": [
    {
     "name": "stdout",
     "output_type": "stream",
     "text": [
      "Writing: /wrk/charkins/melodies_monet/aircraft/analysis_saveout2/0905.pkl\n"
     ]
    }
   ],
   "source": [
    "# For pickle files \n",
    "from melodies_monet.util.write_util import write_pkl\n",
    "write_pkl(obj=an.paired, output_name='/wrk/charkins/melodies_monet/aircraft/analysis_saveout2/0905.pkl')"
   ]
  },
  {
   "cell_type": "code",
   "execution_count": null,
   "id": "04544882",
   "metadata": {
    "scrolled": true
   },
   "outputs": [],
   "source": []
  },
  {
   "cell_type": "code",
   "execution_count": null,
   "id": "8caab88a",
   "metadata": {},
   "outputs": [],
   "source": []
  },
  {
   "cell_type": "code",
   "execution_count": null,
   "id": "dc80edd7",
   "metadata": {},
   "outputs": [],
   "source": []
  },
  {
   "cell_type": "code",
   "execution_count": null,
   "id": "9be2e87a",
   "metadata": {},
   "outputs": [],
   "source": []
  },
  {
   "cell_type": "code",
   "execution_count": null,
   "id": "ccc8e63c",
   "metadata": {},
   "outputs": [],
   "source": []
  },
  {
   "cell_type": "code",
   "execution_count": null,
   "id": "1768d84d",
   "metadata": {},
   "outputs": [],
   "source": []
  },
  {
   "cell_type": "code",
   "execution_count": null,
   "id": "ae2f74e2",
   "metadata": {},
   "outputs": [],
   "source": []
  },
  {
   "cell_type": "code",
   "execution_count": null,
   "id": "e5277261",
   "metadata": {},
   "outputs": [],
   "source": []
  },
  {
   "cell_type": "code",
   "execution_count": null,
   "id": "491e21a1",
   "metadata": {},
   "outputs": [],
   "source": []
  },
  {
   "cell_type": "code",
   "execution_count": null,
   "id": "3cbc4900",
   "metadata": {
    "scrolled": true
   },
   "outputs": [],
   "source": []
  },
  {
   "cell_type": "code",
   "execution_count": null,
   "id": "b0fe3ce6",
   "metadata": {
    "scrolled": true
   },
   "outputs": [],
   "source": []
  },
  {
   "cell_type": "code",
   "execution_count": null,
   "id": "81bf1c7f",
   "metadata": {},
   "outputs": [],
   "source": []
  },
  {
   "cell_type": "code",
   "execution_count": null,
   "id": "ff002563",
   "metadata": {
    "scrolled": true
   },
   "outputs": [],
   "source": []
  },
  {
   "cell_type": "code",
   "execution_count": null,
   "id": "1d343040",
   "metadata": {},
   "outputs": [],
   "source": []
  },
  {
   "cell_type": "code",
   "execution_count": null,
   "id": "06ff16fd",
   "metadata": {},
   "outputs": [],
   "source": []
  },
  {
   "cell_type": "code",
   "execution_count": null,
   "id": "fc2aea7d",
   "metadata": {},
   "outputs": [],
   "source": []
  },
  {
   "cell_type": "code",
   "execution_count": null,
   "id": "3d14cafa",
   "metadata": {},
   "outputs": [],
   "source": []
  },
  {
   "cell_type": "code",
   "execution_count": null,
   "id": "403f9e53",
   "metadata": {},
   "outputs": [],
   "source": []
  },
  {
   "cell_type": "code",
   "execution_count": null,
   "id": "1e840bba",
   "metadata": {},
   "outputs": [],
   "source": []
  },
  {
   "cell_type": "code",
   "execution_count": null,
   "id": "a7bd6c77",
   "metadata": {},
   "outputs": [],
   "source": []
  },
  {
   "cell_type": "code",
   "execution_count": null,
   "id": "693ea701",
   "metadata": {
    "scrolled": true
   },
   "outputs": [],
   "source": []
  },
  {
   "cell_type": "code",
   "execution_count": null,
   "id": "ec3e42cd",
   "metadata": {},
   "outputs": [],
   "source": []
  },
  {
   "cell_type": "code",
   "execution_count": null,
   "id": "4da3f10c",
   "metadata": {},
   "outputs": [],
   "source": []
  },
  {
   "cell_type": "code",
   "execution_count": null,
   "id": "f17280bb",
   "metadata": {},
   "outputs": [],
   "source": []
  },
  {
   "cell_type": "code",
   "execution_count": null,
   "id": "49c4065e",
   "metadata": {
    "scrolled": true
   },
   "outputs": [],
   "source": []
  },
  {
   "cell_type": "code",
   "execution_count": null,
   "id": "5903640f",
   "metadata": {},
   "outputs": [],
   "source": []
  },
  {
   "cell_type": "code",
   "execution_count": null,
   "id": "7d587f4e",
   "metadata": {},
   "outputs": [],
   "source": [
    "\n"
   ]
  },
  {
   "cell_type": "code",
   "execution_count": null,
   "id": "1e2160b0",
   "metadata": {},
   "outputs": [],
   "source": []
  },
  {
   "cell_type": "code",
   "execution_count": null,
   "id": "e59c79df",
   "metadata": {},
   "outputs": [],
   "source": []
  },
  {
   "cell_type": "code",
   "execution_count": null,
   "id": "ec499981",
   "metadata": {},
   "outputs": [],
   "source": []
  },
  {
   "cell_type": "code",
   "execution_count": null,
   "id": "553f501b",
   "metadata": {},
   "outputs": [],
   "source": []
  },
  {
   "cell_type": "code",
   "execution_count": null,
   "id": "7d114d0e",
   "metadata": {},
   "outputs": [],
   "source": []
  },
  {
   "cell_type": "code",
   "execution_count": null,
   "id": "5836c6d4",
   "metadata": {},
   "outputs": [],
   "source": []
  },
  {
   "cell_type": "code",
   "execution_count": null,
   "id": "54c41ab2",
   "metadata": {},
   "outputs": [],
   "source": []
  },
  {
   "cell_type": "code",
   "execution_count": null,
   "id": "98bf1187",
   "metadata": {
    "scrolled": true
   },
   "outputs": [],
   "source": []
  },
  {
   "cell_type": "code",
   "execution_count": null,
   "id": "1f1a4f05",
   "metadata": {},
   "outputs": [],
   "source": []
  },
  {
   "cell_type": "code",
   "execution_count": null,
   "id": "17a5eb19",
   "metadata": {
    "scrolled": true
   },
   "outputs": [],
   "source": []
  },
  {
   "cell_type": "code",
   "execution_count": null,
   "id": "e678ce81",
   "metadata": {},
   "outputs": [],
   "source": []
  },
  {
   "cell_type": "code",
   "execution_count": null,
   "id": "7a11236c",
   "metadata": {},
   "outputs": [],
   "source": []
  },
  {
   "cell_type": "code",
   "execution_count": null,
   "id": "da3753bc",
   "metadata": {},
   "outputs": [],
   "source": []
  },
  {
   "cell_type": "code",
   "execution_count": null,
   "id": "47c84dd0",
   "metadata": {},
   "outputs": [],
   "source": []
  },
  {
   "cell_type": "code",
   "execution_count": null,
   "id": "555b7b73",
   "metadata": {},
   "outputs": [],
   "source": []
  }
 ],
 "metadata": {
  "kernelspec": {
   "display_name": "Python 3 (ipykernel)",
   "language": "python",
   "name": "python3"
  },
  "language_info": {
   "codemirror_mode": {
    "name": "ipython",
    "version": 3
   },
   "file_extension": ".py",
   "mimetype": "text/x-python",
   "name": "python",
   "nbconvert_exporter": "python",
   "pygments_lexer": "ipython3",
   "version": "3.9.12"
  }
 },
 "nbformat": 4,
 "nbformat_minor": 5
}
