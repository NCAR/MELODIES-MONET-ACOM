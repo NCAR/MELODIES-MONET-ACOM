{
 "cells": [
  {
   "cell_type": "markdown",
   "id": "fa641328-fd14-4d05-a2f6-99aa3b0bcdbd",
   "metadata": {},
   "source": [
    "# Example for Pairing AEROMMA data with UFS-AQM"
   ]
  },
  {
   "cell_type": "markdown",
   "id": "d7d709d8-9314-48f7-894e-9fb62fbe696c",
   "metadata": {},
   "source": [
    "This example will demonstrate how to use MELODIES MONET to pair aircraft observations from AEROMMA (https://csl.noaa.gov/projects/aeromma/) to model output from the UFS-AQM (dyn*.nc and phy*.nc output files) and save the paired data for each flight as a netcdf. Users can then read these files back into MELODIES MONET to create plots or calculate statistics or use this paired data output file to do their own analysis. \n",
    "\n",
    "Pairing aircraft data takes awhile so it is recommended that users first pair the data and then produce the plots and statistics, so that you are not repairing everytime you want to change something small during your analysis.\n",
    "\n",
    "This example resamples the data to '600S' to reduce memory constraints, so that this jupyter notebook can easily run under all conditions as a test. For examples, on how to submit a job to process more flight days with a shorter resampling, see the end of this jupyter notebook."
   ]
  },
  {
   "cell_type": "markdown",
   "id": "5f3155b5-f520-4eaa-8220-4c6b3ed2fc28",
   "metadata": {},
   "source": [
    "### First we import the loop_pairing function from melodies_monet.util.tools."
   ]
  },
  {
   "cell_type": "code",
   "execution_count": 1,
   "id": "90856e9f",
   "metadata": {},
   "outputs": [],
   "source": [
    "from melodies_monet.util.tools import loop_pairing"
   ]
  },
  {
   "cell_type": "markdown",
   "id": "fb93d196-12e0-4374-88b7-ee236f564e3e",
   "metadata": {},
   "source": [
    "### Second, we read in a control file that explains all the pairing parameters."
   ]
  },
  {
   "cell_type": "code",
   "execution_count": 2,
   "id": "e1ddf289-b838-4e0d-9230-41cd183dc340",
   "metadata": {},
   "outputs": [],
   "source": [
    "control_fn='/scratch1/BMC/rcm2/rhs/monet_example/AEROMMA/jupyter_notebooks/control_aircraft_looping_AEROMMA_UFSAQM.yaml'"
   ]
  },
  {
   "cell_type": "markdown",
   "id": "e95f38e3-a807-4fcd-8168-7bfb06ab7597",
   "metadata": {},
   "source": [
    "### There are two options for providing the model and observation data for pairing"
   ]
  },
  {
   "cell_type": "markdown",
   "id": "31153f68-c721-4064-8d44-df588c856fbc",
   "metadata": {},
   "source": [
    "**Option 1)** Provide the info in a dictionary like that below and then pair the data"
   ]
  },
  {
   "cell_type": "code",
   "execution_count": 3,
   "id": "dc80edd7",
   "metadata": {},
   "outputs": [],
   "source": [
    "file_pairs = {'0627_L1':{'model':{'ufsaqm':'/scratch1/BMC/rcm2/rhs/monet_example/AEROMMA/UFS-AQM/cmaq54_OriRave1/aqm.20230627/12/*dyn**.nc'},\n",
    "                      'obs':{'aeromma':'/scratch1/BMC/rcm2/rhs/monet_example/AEROMMA/obs_short/short_AEROMMA-Merge_20230627_L1_20240410_1459.csv'}},\n",
    "            '0627_L2':{'model':{'ufsaqm':'/scratch1/BMC/rcm2/rhs/monet_example/AEROMMA/UFS-AQM/cmaq54_OriRave1/aqm.20230627/12/*dyn**.nc'},\n",
    "                      'obs':{'aeromma':'/scratch1/BMC/rcm2/rhs/monet_example/AEROMMA/obs_short/short_AEROMMA-Merge_20230627_L2_20240410_1502.csv'}}\n",
    "            }"
   ]
  },
  {
   "cell_type": "code",
   "execution_count": 4,
   "id": "61d17a19-7aed-4f35-a69b-5a0778f365c1",
   "metadata": {},
   "outputs": [
    {
     "name": "stdout",
     "output_type": "stream",
     "text": [
      "rrfs\n",
      "/scratch1/BMC/rcm2/rhs/monet_example/AEROMMA/UFS-AQM/cmaq54_OriRave1/aqm.20230627/12/*dyn**.nc\n",
      "**** Reading RRFS-CMAQ model output...\n",
      "1, in pair data\n",
      "After pairing:         CO_LGR  pressure_obs    temp_obs                time   latitude  \\\n",
      "0  143.363846  88948.552632  292.387105 2023-06-27 16:00:00  34.631892   \n",
      "1  106.124233  71204.356667  283.205000 2023-06-27 16:10:00  34.496007   \n",
      "2  127.060810  80613.510000  287.579717 2023-06-27 16:20:00  33.853575   \n",
      "3  136.830183  89684.255000  289.194500 2023-06-27 16:30:00  33.794704   \n",
      "4  106.514583  83029.950000  289.219417 2023-06-27 16:40:00  33.847016   \n",
      "5  150.625667  88200.826667  290.883117 2023-06-27 16:50:00  33.759474   \n",
      "6  188.170900  90548.173333  290.358600 2023-06-27 17:00:00  34.088597   \n",
      "7  166.075117  88358.660000  288.824700 2023-06-27 17:10:00  34.159883   \n",
      "8  209.496875  87127.443333  288.734483 2023-06-27 17:20:00  34.235454   \n",
      "9  129.856222  82075.160131  290.465229 2023-06-27 17:30:00  34.531718   \n",
      "\n",
      "    longitude     altitude    NO_LIF   NO2_LIF      O3_CL   no2_ave    no_ave  \\\n",
      "0 -118.123003  1109.460526  0.282006       NaN  56.127115  0.914350  0.291470   \n",
      "1 -118.167156  3005.577167  0.049727  0.036758  55.455200  0.042845  0.018977   \n",
      "2 -118.156649  1985.954500  0.188503  0.338026  62.794000  0.129739  0.050233   \n",
      "3 -118.127109  1069.534833  1.180514  1.682861  50.966633  0.084768  0.027608   \n",
      "4 -117.535995  1702.704500  0.032379  0.079643  63.762667  0.198694  0.070152   \n",
      "5 -117.213681  1202.879000  1.095730  2.500359  56.807883  0.191827  0.063851   \n",
      "6 -117.330201   970.892833  1.200764  2.518730  62.168750  6.389357  3.076129   \n",
      "7 -117.889473  1181.670000  0.738227  1.485926  62.525000  1.018391  0.394860   \n",
      "8 -118.363626  1335.923946  2.126566  3.651129  54.600817  0.204911  0.068777   \n",
      "9 -118.196578  1829.095752  0.137040  0.384261  67.105605  0.442615  0.181726   \n",
      "\n",
      "      o3_ave          co  temp_model  \n",
      "0  44.549693  136.597324  291.464727  \n",
      "1  52.700841   97.608665  283.375200  \n",
      "2  46.706360  107.044119  288.417949  \n",
      "3  41.949559  121.176372  289.902177  \n",
      "4  48.551283  133.582520  289.031717  \n",
      "5  45.173078  126.882733  289.473570  \n",
      "6  43.063749  204.492215  290.638614  \n",
      "7  49.874803  167.835052  289.128583  \n",
      "8  48.900208  141.821387  289.003204  \n",
      "9  50.478420  135.863299  288.115651  \n",
      "Writing: /scratch1/BMC/rcm2/rhs/monet_example/AEROMMA/processed/jupyter/0627_L1_aeromma_ufsaqm.nc4\n",
      "rrfs\n",
      "/scratch1/BMC/rcm2/rhs/monet_example/AEROMMA/UFS-AQM/cmaq54_OriRave1/aqm.20230627/12/*dyn**.nc\n",
      "**** Reading RRFS-CMAQ model output...\n",
      "1, in pair data\n",
      "After pairing:          CO_LGR  pressure_obs    temp_obs                time   latitude  \\\n",
      "0   139.250513  80971.809091  291.214227 2023-06-27 21:10:00  34.703851   \n",
      "1   127.497017  68411.705000  281.756417 2023-06-27 21:20:00  34.360776   \n",
      "2   129.503233  84400.400000  290.034783 2023-06-27 21:30:00  33.732005   \n",
      "3   136.358067  90947.195000  290.971050 2023-06-27 21:40:00  33.731093   \n",
      "4   139.637017  86613.550000  290.958100 2023-06-27 21:50:00  33.856976   \n",
      "5   231.098067  87301.246667  293.105283 2023-06-27 22:00:00  33.753279   \n",
      "6   208.195267  92374.583333  296.585967 2023-06-27 22:10:00  33.990912   \n",
      "7   222.650583  88598.281667  292.934933 2023-06-27 22:20:00  34.135550   \n",
      "8   240.243000  90960.876667  292.077550 2023-06-27 22:30:00  34.189870   \n",
      "9   181.759950  90501.790000  291.798567 2023-06-27 22:40:00  34.104937   \n",
      "10  150.410812  94180.483333  292.386333 2023-06-27 22:50:00  33.775592   \n",
      "11  121.868883  81735.123333  290.944833 2023-06-27 23:00:00  33.768546   \n",
      "12  183.785967  85626.396667  291.818667 2023-06-27 23:10:00  34.111617   \n",
      "13  227.601855  89384.643333  290.850467 2023-06-27 23:20:00  34.180361   \n",
      "14  138.273083  81366.505000  289.099717 2023-06-27 23:30:00  34.309343   \n",
      "15  161.672091  86783.643357  296.712517 2023-06-27 23:40:00  34.625761   \n",
      "\n",
      "     longitude     altitude    NO_LIF   NO2_LIF      O3_CL   no2_ave  \\\n",
      "0  -118.154225  1926.104545       NaN       NaN  64.321453  0.300665   \n",
      "1  -118.182845  3326.225833       NaN       NaN  51.047250  0.032868   \n",
      "2  -118.147440  1602.147167       NaN       NaN  63.802867  0.045430   \n",
      "3  -118.189670   944.558667       NaN       NaN  57.939817  0.297394   \n",
      "4  -117.793798  1348.376833       NaN       NaN  66.670367  0.122038   \n",
      "5  -117.252471  1280.946500       NaN       NaN  73.070500  0.570867   \n",
      "6  -117.290810   796.384167       NaN       NaN  84.131800  1.642338   \n",
      "7  -117.435216  1156.244167       NaN       NaN  90.638000  1.463258   \n",
      "8  -118.100353   928.684615       NaN       NaN  80.040233  3.821698   \n",
      "9  -118.106217   971.277500       NaN       NaN  73.714733  2.960507   \n",
      "10 -118.039967   636.096500       NaN       NaN  62.823750  1.064931   \n",
      "11 -117.905816  1840.676833       NaN       NaN  79.565750  0.040055   \n",
      "12 -117.454834  1443.356333       NaN       NaN  89.265117  1.069509   \n",
      "13 -118.027366  1073.840333  1.030507  3.368953  80.852317  2.507252   \n",
      "14 -118.339579  1921.521333  0.214734  0.703607  60.703267  0.047774   \n",
      "15 -118.023890  1326.219231  0.142256  0.633022  84.359268  0.751273   \n",
      "\n",
      "      no_ave     o3_ave          co  temp_model  \n",
      "0   0.101565  59.556089  138.014710  290.121878  \n",
      "1   0.019188  54.490838   99.566831  280.577334  \n",
      "2   0.018994  46.826753  105.911503  290.525889  \n",
      "3   0.111481  46.872665  130.694250  291.395543  \n",
      "4   0.040636  51.336840  126.638922  291.555731  \n",
      "5   0.145640  67.731727  162.099986  294.048808  \n",
      "6   0.352594  81.226394  202.331216  295.329945  \n",
      "7   0.332507  81.506428  204.671154  293.149689  \n",
      "8   1.262446  66.330709  198.372575  290.802793  \n",
      "9   0.953564  66.240095  184.605908  290.989372  \n",
      "10  0.389391  46.452576  136.037695  291.197406  \n",
      "11  0.017077  48.806365   97.455787  290.139271  \n",
      "12  0.257736  77.005356  179.313840  290.896991  \n",
      "13  0.691254  68.710467  177.142353  290.958895  \n",
      "14  0.018615  50.345320  101.875821  289.542088  \n",
      "15  0.146266  78.459019  173.508730  296.010381  \n",
      "Writing: /scratch1/BMC/rcm2/rhs/monet_example/AEROMMA/processed/jupyter/0627_L2_aeromma_ufsaqm.nc4\n"
     ]
    }
   ],
   "source": [
    "loop_pairing(control=control_fn,file_pairs=file_pairs)"
   ]
  },
  {
   "cell_type": "markdown",
   "id": "5a4b72b9-d3b7-4b4f-b3b4-95b9172e602e",
   "metadata": {},
   "source": [
    "**Option 2)** Provide the info in a supplementary yaml file and then pair the data. This option is specifically useful when submitting a job for the analysis rather than using jupyter notebook."
   ]
  },
  {
   "cell_type": "code",
   "execution_count": 5,
   "id": "cd0d569b-80f1-4345-84cc-6ba93780cb73",
   "metadata": {},
   "outputs": [
    {
     "name": "stdout",
     "output_type": "stream",
     "text": [
      "rrfs\n",
      "/scratch1/BMC/rcm2/rhs/monet_example/AEROMMA/UFS-AQM/cmaq54_OriRave1/aqm.20230627/12/*dyn**.nc\n",
      "**** Reading RRFS-CMAQ model output...\n",
      "1, in pair data\n",
      "After pairing:         CO_LGR  pressure_obs    temp_obs                time   latitude  \\\n",
      "0  143.363846  88948.552632  292.387105 2023-06-27 16:00:00  34.631892   \n",
      "1  106.124233  71204.356667  283.205000 2023-06-27 16:10:00  34.496007   \n",
      "2  127.060810  80613.510000  287.579717 2023-06-27 16:20:00  33.853575   \n",
      "3  136.830183  89684.255000  289.194500 2023-06-27 16:30:00  33.794704   \n",
      "4  106.514583  83029.950000  289.219417 2023-06-27 16:40:00  33.847016   \n",
      "5  150.625667  88200.826667  290.883117 2023-06-27 16:50:00  33.759474   \n",
      "6  188.170900  90548.173333  290.358600 2023-06-27 17:00:00  34.088597   \n",
      "7  166.075117  88358.660000  288.824700 2023-06-27 17:10:00  34.159883   \n",
      "8  209.496875  87127.443333  288.734483 2023-06-27 17:20:00  34.235454   \n",
      "9  129.856222  82075.160131  290.465229 2023-06-27 17:30:00  34.531718   \n",
      "\n",
      "    longitude     altitude    NO_LIF   NO2_LIF      O3_CL   no2_ave    no_ave  \\\n",
      "0 -118.123003  1109.460526  0.282006       NaN  56.127115  0.914350  0.291470   \n",
      "1 -118.167156  3005.577167  0.049727  0.036758  55.455200  0.042845  0.018977   \n",
      "2 -118.156649  1985.954500  0.188503  0.338026  62.794000  0.129739  0.050233   \n",
      "3 -118.127109  1069.534833  1.180514  1.682861  50.966633  0.084768  0.027608   \n",
      "4 -117.535995  1702.704500  0.032379  0.079643  63.762667  0.198694  0.070152   \n",
      "5 -117.213681  1202.879000  1.095730  2.500359  56.807883  0.191827  0.063851   \n",
      "6 -117.330201   970.892833  1.200764  2.518730  62.168750  6.389357  3.076129   \n",
      "7 -117.889473  1181.670000  0.738227  1.485926  62.525000  1.018391  0.394860   \n",
      "8 -118.363626  1335.923946  2.126566  3.651129  54.600817  0.204911  0.068777   \n",
      "9 -118.196578  1829.095752  0.137040  0.384261  67.105605  0.442615  0.181726   \n",
      "\n",
      "      o3_ave          co  temp_model  \n",
      "0  44.549693  136.597324  291.464727  \n",
      "1  52.700841   97.608665  283.375200  \n",
      "2  46.706360  107.044119  288.417949  \n",
      "3  41.949559  121.176372  289.902177  \n",
      "4  48.551283  133.582520  289.031717  \n",
      "5  45.173078  126.882733  289.473570  \n",
      "6  43.063749  204.492215  290.638614  \n",
      "7  49.874803  167.835052  289.128583  \n",
      "8  48.900208  141.821387  289.003204  \n",
      "9  50.478420  135.863299  288.115651  \n",
      "Writing: /scratch1/BMC/rcm2/rhs/monet_example/AEROMMA/processed/jupyter/0627_L1_aeromma_ufsaqm.nc4\n",
      "rrfs\n",
      "/scratch1/BMC/rcm2/rhs/monet_example/AEROMMA/UFS-AQM/cmaq54_OriRave1/aqm.20230627/12/*dyn**.nc\n",
      "**** Reading RRFS-CMAQ model output...\n",
      "1, in pair data\n",
      "After pairing:          CO_LGR  pressure_obs    temp_obs                time   latitude  \\\n",
      "0   139.250513  80971.809091  291.214227 2023-06-27 21:10:00  34.703851   \n",
      "1   127.497017  68411.705000  281.756417 2023-06-27 21:20:00  34.360776   \n",
      "2   129.503233  84400.400000  290.034783 2023-06-27 21:30:00  33.732005   \n",
      "3   136.358067  90947.195000  290.971050 2023-06-27 21:40:00  33.731093   \n",
      "4   139.637017  86613.550000  290.958100 2023-06-27 21:50:00  33.856976   \n",
      "5   231.098067  87301.246667  293.105283 2023-06-27 22:00:00  33.753279   \n",
      "6   208.195267  92374.583333  296.585967 2023-06-27 22:10:00  33.990912   \n",
      "7   222.650583  88598.281667  292.934933 2023-06-27 22:20:00  34.135550   \n",
      "8   240.243000  90960.876667  292.077550 2023-06-27 22:30:00  34.189870   \n",
      "9   181.759950  90501.790000  291.798567 2023-06-27 22:40:00  34.104937   \n",
      "10  150.410812  94180.483333  292.386333 2023-06-27 22:50:00  33.775592   \n",
      "11  121.868883  81735.123333  290.944833 2023-06-27 23:00:00  33.768546   \n",
      "12  183.785967  85626.396667  291.818667 2023-06-27 23:10:00  34.111617   \n",
      "13  227.601855  89384.643333  290.850467 2023-06-27 23:20:00  34.180361   \n",
      "14  138.273083  81366.505000  289.099717 2023-06-27 23:30:00  34.309343   \n",
      "15  161.672091  86783.643357  296.712517 2023-06-27 23:40:00  34.625761   \n",
      "\n",
      "     longitude     altitude    NO_LIF   NO2_LIF      O3_CL   no2_ave  \\\n",
      "0  -118.154225  1926.104545       NaN       NaN  64.321453  0.300665   \n",
      "1  -118.182845  3326.225833       NaN       NaN  51.047250  0.032868   \n",
      "2  -118.147440  1602.147167       NaN       NaN  63.802867  0.045430   \n",
      "3  -118.189670   944.558667       NaN       NaN  57.939817  0.297394   \n",
      "4  -117.793798  1348.376833       NaN       NaN  66.670367  0.122038   \n",
      "5  -117.252471  1280.946500       NaN       NaN  73.070500  0.570867   \n",
      "6  -117.290810   796.384167       NaN       NaN  84.131800  1.642338   \n",
      "7  -117.435216  1156.244167       NaN       NaN  90.638000  1.463258   \n",
      "8  -118.100353   928.684615       NaN       NaN  80.040233  3.821698   \n",
      "9  -118.106217   971.277500       NaN       NaN  73.714733  2.960507   \n",
      "10 -118.039967   636.096500       NaN       NaN  62.823750  1.064931   \n",
      "11 -117.905816  1840.676833       NaN       NaN  79.565750  0.040055   \n",
      "12 -117.454834  1443.356333       NaN       NaN  89.265117  1.069509   \n",
      "13 -118.027366  1073.840333  1.030507  3.368953  80.852317  2.507252   \n",
      "14 -118.339579  1921.521333  0.214734  0.703607  60.703267  0.047774   \n",
      "15 -118.023890  1326.219231  0.142256  0.633022  84.359268  0.751273   \n",
      "\n",
      "      no_ave     o3_ave          co  temp_model  \n",
      "0   0.101565  59.556089  138.014710  290.121878  \n",
      "1   0.019188  54.490838   99.566831  280.577334  \n",
      "2   0.018994  46.826753  105.911503  290.525889  \n",
      "3   0.111481  46.872665  130.694250  291.395543  \n",
      "4   0.040636  51.336840  126.638922  291.555731  \n",
      "5   0.145640  67.731727  162.099986  294.048808  \n",
      "6   0.352594  81.226394  202.331216  295.329945  \n",
      "7   0.332507  81.506428  204.671154  293.149689  \n",
      "8   1.262446  66.330709  198.372575  290.802793  \n",
      "9   0.953564  66.240095  184.605908  290.989372  \n",
      "10  0.389391  46.452576  136.037695  291.197406  \n",
      "11  0.017077  48.806365   97.455787  290.139271  \n",
      "12  0.257736  77.005356  179.313840  290.896991  \n",
      "13  0.691254  68.710467  177.142353  290.958895  \n",
      "14  0.018615  50.345320  101.875821  289.542088  \n",
      "15  0.146266  78.459019  173.508730  296.010381  \n",
      "Writing: /scratch1/BMC/rcm2/rhs/monet_example/AEROMMA/processed/jupyter/0627_L2_aeromma_ufsaqm.nc4\n"
     ]
    }
   ],
   "source": [
    "loop_pairing(control=control_fn,\n",
    "             file_pairs_yaml='/scratch1/BMC/rcm2/rhs/monet_example/AEROMMA/jupyter_notebooks/supplementary_aircraft_looping_file_pairs_AEROMMA_UFSAQM.yaml')"
   ]
  },
  {
   "cell_type": "markdown",
   "id": "45c50855-d4c5-4177-bd4c-bc1d15982a29",
   "metadata": {},
   "source": [
    "Both of these options produce the same results. The supplementary yaml file is the preferred method for pairing data for many days over a large campaign."
   ]
  },
  {
   "cell_type": "markdown",
   "id": "6b5b7fbf-332f-4cd5-aaea-a98f0b40c4f5",
   "metadata": {},
   "source": [
    "### Finding time bounds of observation files"
   ]
  },
  {
   "cell_type": "markdown",
   "id": "6c1e4a27-6354-4e25-a96f-6e603c9a5e0a",
   "metadata": {},
   "source": [
    "To support creating a dictionary or supplementary yaml file, to determine the pairing we have also created a function to find the time bounds in the observation file. To use this, first import the find_obs_time_bounds function from melodies_monet.util.tools."
   ]
  },
  {
   "cell_type": "code",
   "execution_count": 6,
   "id": "1768d84d",
   "metadata": {},
   "outputs": [],
   "source": [
    "from melodies_monet.util.tools import find_obs_time_bounds"
   ]
  },
  {
   "cell_type": "markdown",
   "id": "c075dab7-803a-41d5-9877-082406d41d59",
   "metadata": {},
   "source": [
    "Then specify the observational files and time variable name, call the find_obs_time_bounds function, and print bounds."
   ]
  },
  {
   "cell_type": "code",
   "execution_count": 7,
   "id": "ae2f74e2",
   "metadata": {},
   "outputs": [
    {
     "name": "stdout",
     "output_type": "stream",
     "text": [
      "For /scratch1/BMC/rcm2/rhs/monet_example/AEROMMA/obs/AEROMMA-Merge_20230627_L1_20240410_1459.csv, time bounds are, Min: <xarray.DataArray 'time' ()> Size: 8B\n",
      "array('2023-06-27T16:09:08.000000000', dtype='datetime64[ns]'), Max: <xarray.DataArray 'time' ()> Size: 8B\n",
      "array('2023-06-27T17:35:14.000000000', dtype='datetime64[ns]')\n"
     ]
    }
   ],
   "source": [
    "files = ['/scratch1/BMC/rcm2/rhs/monet_example/AEROMMA/obs/AEROMMA-Merge_20230627_L1_20240410_1459.csv']\n",
    "bounds = find_obs_time_bounds(files=files,time_var ='Time_Start')"
   ]
  },
  {
   "cell_type": "code",
   "execution_count": 8,
   "id": "bfe46ef8-1a0e-4ace-a9ba-21596553ae69",
   "metadata": {},
   "outputs": [
    {
     "name": "stdout",
     "output_type": "stream",
     "text": [
      "For /scratch1/BMC/rcm2/rhs/monet_example/AEROMMA/obs/AEROMMA-Merge_20230627_L2_20240410_1502.csv, time bounds are, Min: <xarray.DataArray 'time' ()> Size: 8B\n",
      "array('2023-06-27T21:16:06.000000000', dtype='datetime64[ns]'), Max: <xarray.DataArray 'time' ()> Size: 8B\n",
      "array('2023-06-27T23:44:46.000000000', dtype='datetime64[ns]')\n"
     ]
    }
   ],
   "source": [
    "files = ['/scratch1/BMC/rcm2/rhs/monet_example/AEROMMA/obs/AEROMMA-Merge_20230627_L2_20240410_1502.csv']\n",
    "bounds = find_obs_time_bounds(files=files,time_var ='Time_Start')"
   ]
  },
  {
   "cell_type": "code",
   "execution_count": 9,
   "id": "94927ccd-4a37-40b4-a168-3a9f21945f30",
   "metadata": {},
   "outputs": [
    {
     "name": "stdout",
     "output_type": "stream",
     "text": [
      "For /scratch1/BMC/rcm2/rhs/monet_example/AEROMMA/obs/AEROMMA-Merge_20230628_L1_20240410_1504.csv, time bounds are, Min: <xarray.DataArray 'time' ()> Size: 8B\n",
      "array('2023-06-28T16:26:51.000000000', dtype='datetime64[ns]'), Max: <xarray.DataArray 'time' ()> Size: 8B\n",
      "array('2023-06-28T19:55:15.000000000', dtype='datetime64[ns]')\n"
     ]
    }
   ],
   "source": [
    "files = ['/scratch1/BMC/rcm2/rhs/monet_example/AEROMMA/obs/AEROMMA-Merge_20230628_L1_20240410_1504.csv']\n",
    "bounds = find_obs_time_bounds(files=files,time_var ='Time_Start')"
   ]
  },
  {
   "cell_type": "code",
   "execution_count": 10,
   "id": "d7b6c3f5-c97d-434d-98a5-9d665721c524",
   "metadata": {},
   "outputs": [
    {
     "name": "stdout",
     "output_type": "stream",
     "text": [
      "For /scratch1/BMC/rcm2/rhs/monet_example/AEROMMA/obs/AEROMMA-Merge_20230628_L2_20240410_1506.csv, time bounds are, Min: <xarray.DataArray 'time' ()> Size: 8B\n",
      "array('2023-06-28T22:28:06.000000000', dtype='datetime64[ns]'), Max: <xarray.DataArray 'time' ()> Size: 8B\n",
      "array('2023-06-29T02:01:02.000000000', dtype='datetime64[ns]')\n"
     ]
    }
   ],
   "source": [
    "files = ['/scratch1/BMC/rcm2/rhs/monet_example/AEROMMA/obs/AEROMMA-Merge_20230628_L2_20240410_1506.csv']\n",
    "bounds = find_obs_time_bounds(files=files,time_var ='Time_Start')"
   ]
  },
  {
   "cell_type": "markdown",
   "id": "dba84536-9e7e-4818-8a63-07f62a72b8a7",
   "metadata": {},
   "source": [
    "### Submit a job to reduce the resampling time or increase the number of flights"
   ]
  },
  {
   "cell_type": "markdown",
   "id": "1b442e7c-3a4e-4c69-994d-e43c41c59542",
   "metadata": {},
   "source": [
    "We have also created examples for submitting a job. Submitting a job on Hera is much faster and you can use a reduced resampling time (e.g., 30s) and increase the number of flights.\n",
    "\n",
    "These are uploaded to the examples folder on the MELODIES MONET GitHub page:\n",
    "* supplementary_aircraft_looping_file_pairs_AEROMMA_UFSAQM_submit.yaml - supplementary yaml file\n",
    "* control_aircraft_looping_AEROMMA_UFSAQM-submit.yaml - control.yaml file for this analysis\n",
    "* run_aircraft_pairing_loop.py - python script using the loop_pairing from melodies_monet.util.tools\n",
    "* submit_hera.job - bash script to submit a job on Hera to run the run_aircraft_pairing_loop.py script\n"
   ]
  },
  {
   "cell_type": "code",
   "execution_count": null,
   "id": "d7e9a71a-dc1b-4289-a157-95c08b9359ad",
   "metadata": {},
   "outputs": [],
   "source": []
  }
 ],
 "metadata": {
  "kernelspec": {
   "display_name": "Python 3 (ipykernel)",
   "language": "python",
   "name": "python3"
  },
  "language_info": {
   "codemirror_mode": {
    "name": "ipython",
    "version": 3
   },
   "file_extension": ".py",
   "mimetype": "text/x-python",
   "name": "python",
   "nbconvert_exporter": "python",
   "pygments_lexer": "ipython3",
   "version": "3.9.20"
  }
 },
 "nbformat": 4,
 "nbformat_minor": 5
}
