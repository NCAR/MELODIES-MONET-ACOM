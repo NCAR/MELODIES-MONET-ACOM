{
 "cells": [
  {
   "cell_type": "markdown",
   "id": "51def9a8-dcf7-489c-a9e6-bc78886a7917",
   "metadata": {},
   "source": [
    "## Implementation of processing over time intervals\n",
    "\n",
    "Testing of Melodies-Monet OMPS Nadir Mapper L2 pairing with time interval chunking"
   ]
  },
  {
   "cell_type": "code",
   "execution_count": null,
   "id": "64e61a73-ace6-4041-a194-fe26e7a6b126",
   "metadata": {},
   "outputs": [],
   "source": [
    "from melodies_monet import driver"
   ]
  },
  {
   "cell_type": "code",
   "execution_count": null,
   "id": "17e4ebe7-7b5e-4628-919d-7275dd088478",
   "metadata": {},
   "outputs": [],
   "source": [
    "an = driver.analysis()\n",
    "an.control = '../yaml/control_omps_nm-raqms.yaml'\n",
    "an.read_control()"
   ]
  },
  {
   "cell_type": "code",
   "execution_count": null,
   "id": "2bc2dc2d-5297-4827-aa3e-90052ea4b64c",
   "metadata": {
    "tags": []
   },
   "outputs": [],
   "source": [
    "base_prefix = an.save['paired']['prefix']#.copy()\n",
    "for t in an.time_intervals:\n",
    "    an.open_models(time_interval=t)\n",
    "    an.open_obs(time_interval=t)\n",
    "    \n",
    "    an.pair_data()\n",
    "    \n",
    "    # adjust saved name for file to include time interval bounds\n",
    "    an.save['paired']['prefix'] = base_prefix+'_'+t[0].strftime('%Y%m%d')+'_'+t[1].strftime('%Y%m%d')\n",
    "    an.save_analysis()"
   ]
  },
  {
   "cell_type": "markdown",
   "id": "a6ba95ad-f73a-4b68-8ae5-7858eee6c970",
   "metadata": {},
   "source": [
    "Notes regarding satellite pairing methods:\n",
    "- some additional development needed to deal with time chuncking. Some OMPS NM orbit files cross the day. This doesn't cause issues if it is within the specified time_interval, but data past the time_interval in the file will be dropped and currently will not be read in during the next time_interval\n",
    "\n",
    "- Satellite pairing bilinearly interpolates model data in time to satellite observation times. When observations are before (after) the first (last) model file, time interpolation is nearest-neighbor and only the first (last) file is used. Right now the time-interpolation does not take into account if processing is being done over time chunks. Impact should be minimal, as observations have been filtered to be within time_intervals and the model file subsetter should be selecting all the necessary files."
   ]
  },
  {
   "cell_type": "markdown",
   "id": "8ddb4e95-1db0-4f01-b433-2d279b1d25fe",
   "metadata": {},
   "source": [
    "### Read in saved paired data"
   ]
  },
  {
   "cell_type": "code",
   "execution_count": null,
   "id": "ce25d669-166a-42a0-861e-ceef59b26d34",
   "metadata": {},
   "outputs": [],
   "source": [
    "an = driver.analysis()\n",
    "an.control = 'control_omps_nm-raqms.yaml'\n",
    "an.read_control()\n",
    "an.read_analysis()"
   ]
  },
  {
   "cell_type": "code",
   "execution_count": null,
   "id": "f41b0217-c3cf-4cde-996e-d6149cea5aa5",
   "metadata": {},
   "outputs": [],
   "source": [
    "import numpy as np\n",
    "#an.paired['omps_nm_raqms'].obj = an.paired['omps_nm_raqms'].obj.swap_dims({'time':'x'})\n",
    "an.paired['omps_nm_raqms'].obj['o3vmr'].values[np.isnan(an.paired['omps_nm_raqms'].obj['ozone_column'].values)] = np.nan\n",
    "an.paired['omps_nm_raqms'].obj['o3vmr'].values[an.paired['omps_nm_raqms'].obj['o3vmr'].values < 50] = np.nan\n",
    "an.paired['omps_nm_raqms'].obj['ozone_column'].values[np.isnan(an.paired['omps_nm_raqms'].obj['o3vmr'].values)] = np.nan\n",
    "an.plotting()"
   ]
  }
 ],
 "metadata": {
  "kernelspec": {
   "display_name": "dev_monet",
   "language": "python",
   "name": "develop_monet"
  },
  "language_info": {
   "codemirror_mode": {
    "name": "ipython",
    "version": 3
   },
   "file_extension": ".py",
   "mimetype": "text/x-python",
   "name": "python",
   "nbconvert_exporter": "python",
   "pygments_lexer": "ipython3",
   "version": "3.9.12"
  }
 },
 "nbformat": 4,
 "nbformat_minor": 5
}
